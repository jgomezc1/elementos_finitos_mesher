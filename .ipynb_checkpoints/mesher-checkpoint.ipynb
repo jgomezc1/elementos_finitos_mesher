{
 "cells": [
  {
   "cell_type": "markdown",
   "metadata": {
    "raw_mimetype": "text/latex"
   },
   "source": [
    "(c) Juan Gomez 2019. Thanks to Universidad EAFIT for support. This material is part of the course Introduction to Finite Element Analysis"
   ]
  },
  {
   "cell_type": "markdown",
   "metadata": {},
   "source": [
    "# Mesher for basic geometries"
   ]
  },
  {
   "cell_type": "markdown",
   "metadata": {},
   "source": [
    "## Import modules"
   ]
  },
  {
   "cell_type": "code",
   "execution_count": null,
   "metadata": {},
   "outputs": [],
   "source": [
    "from fem_templates import LayeredPlate\n",
    "from fem_config import FEMConfig\n",
    "from fem_converter import FEMConverter"
   ]
  },
  {
   "cell_type": "code",
   "execution_count": null,
   "metadata": {},
   "outputs": [],
   "source": [
    "# Create model\n",
    "model = LayeredPlate(length=2.0, height=1.0, mesh_size=0.1)\n",
    "\n",
    "# Add materials\n",
    "model.add_layer(\"steel\", y_min=0.0, y_max=0.5, E=200e9, nu=0.3)\n",
    "model.add_layer(\"aluminum\", y_min=0.5, y_max=1.0, E=70e9, nu=0.33)\n",
    "\n",
    "# Add boundary conditions\n",
    "model.add_bc(\"left\", x=\"fixed\", y=\"free\")\n",
    "model.add_bc(\"bottom\", x=\"free\", y=\"fixed\")\n",
    "\n",
    "# Add loads\n",
    "model.add_load(\"top\", fy=-1000.0)\n",
    "\n",
    "# Save configuration\n",
    "model.save(\"output/bimaterial.yaml\")"
   ]
  },
  {
   "cell_type": "code",
   "execution_count": null,
   "metadata": {},
   "outputs": [],
   "source": [
    "config = FEMConfig.from_yaml(\"output/bimaterial.yaml\")"
   ]
  },
  {
   "cell_type": "code",
   "execution_count": null,
   "metadata": {},
   "outputs": [],
   "source": [
    "converter = FEMConverter(config, output_dir=\"./output\")\n",
    "converter.convert()"
   ]
  },
  {
   "cell_type": "markdown",
   "metadata": {},
   "source": [
    "# L-Shaped beam"
   ]
  },
  {
   "cell_type": "code",
   "execution_count": null,
   "metadata": {},
   "outputs": [],
   "source": [
    "from fem_templates import LShapeBeam"
   ]
  },
  {
   "cell_type": "code",
   "execution_count": null,
   "metadata": {},
   "outputs": [],
   "source": [
    "model = LShapeBeam(\n",
    "    width=3.0, height=3.0,\n",
    "    flange_width=1.0, flange_height=1.0,\n",
    "    E=2.1e11, nu=0.3\n",
    ")\n",
    "model.add_bc(\"bottom\", x=\"fixed\", y=\"fixed\")\n",
    "model.add_load(\"top\", fy=-1000.0)\n",
    "model.save(\"output/lshape.yaml\")"
   ]
  },
  {
   "cell_type": "code",
   "execution_count": null,
   "metadata": {},
   "outputs": [],
   "source": [
    "config = FEMConfig.from_yaml(\"output/lshape.yaml\")"
   ]
  },
  {
   "cell_type": "code",
   "execution_count": null,
   "metadata": {},
   "outputs": [],
   "source": [
    "converter = FEMConverter(config, output_dir=\"./output\")\n",
    "converter.convert()"
   ]
  },
  {
   "cell_type": "markdown",
   "metadata": {},
   "source": [
    "# Plate with Hole"
   ]
  },
  {
   "cell_type": "code",
   "execution_count": null,
   "metadata": {},
   "outputs": [],
   "source": [
    "from fem_templates import PlateWithHole\n",
    "from fem_config import FEMConfig\n",
    "from fem_converter import FEMConverter"
   ]
  },
  {
   "cell_type": "code",
   "execution_count": null,
   "metadata": {},
   "outputs": [],
   "source": [
    "model = PlateWithHole(\n",
    "    length=4.0, height=2.0,\n",
    "    hole_x=2.0, hole_y=1.0, hole_radius=0.3,\n",
    "    E=2.1e11, nu=0.3,\n",
    "    mesh_size=0.01\n",
    ")\n",
    "model.add_bc(\"left\", x=\"fixed\", y=\"fixed\")\n",
    "model.add_load(\"top\", fy=-1000.0)\n",
    "model.save(\"output/plate_hole.yaml\")"
   ]
  },
  {
   "cell_type": "code",
   "execution_count": null,
   "metadata": {},
   "outputs": [],
   "source": [
    "config = FEMConfig.from_yaml(\"output/plate_hole.yaml\")"
   ]
  },
  {
   "cell_type": "code",
   "execution_count": null,
   "metadata": {},
   "outputs": [],
   "source": [
    "converter = FEMConverter(config, output_dir=\"./output\")\n",
    "converter.convert()"
   ]
  },
  {
   "cell_type": "code",
   "execution_count": null,
   "metadata": {},
   "outputs": [],
   "source": []
  }
 ],
 "metadata": {
  "celltoolbar": "Raw Cell Format",
  "kernelspec": {
   "display_name": "Python 3 (ipykernel)",
   "language": "python",
   "name": "python3"
  },
  "language_info": {
   "codemirror_mode": {
    "name": "ipython",
    "version": 3
   },
   "file_extension": ".py",
   "mimetype": "text/x-python",
   "name": "python",
   "nbconvert_exporter": "python",
   "pygments_lexer": "ipython3",
   "version": "3.11.7"
  },
  "varInspector": {
   "cols": {
    "lenName": 16,
    "lenType": 16,
    "lenVar": 40
   },
   "kernels_config": {
    "python": {
     "delete_cmd_postfix": "",
     "delete_cmd_prefix": "del ",
     "library": "var_list.py",
     "varRefreshCmd": "print(var_dic_list())"
    },
    "r": {
     "delete_cmd_postfix": ") ",
     "delete_cmd_prefix": "rm(",
     "library": "var_list.r",
     "varRefreshCmd": "cat(var_dic_list()) "
    }
   },
   "types_to_exclude": [
    "module",
    "function",
    "builtin_function_or_method",
    "instance",
    "_Feature"
   ],
   "window_display": false
  }
 },
 "nbformat": 4,
 "nbformat_minor": 4
}
